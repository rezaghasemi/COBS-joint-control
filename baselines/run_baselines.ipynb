{
 "cells": [
  {
   "cell_type": "code",
   "execution_count": 1,
   "metadata": {},
   "outputs": [],
   "source": [
    "import os, re, pdb\n",
    "import pandas as pd\n",
    "import matplotlib.pyplot as plt\n",
    "from natsort import natsorted \n",
    "import numpy as np\n",
    "\n",
    "import time\n",
    "import sys\n",
    "sys.path.append('../')\n",
    "sys.path.append('../cobs')\n",
    "\n",
    "from model import Model\n",
    "from occupancy_generator import OccupancyGenerator as OG"
   ]
  },
  {
   "cell_type": "code",
   "execution_count": 2,
   "metadata": {},
   "outputs": [],
   "source": [
    "blind_object_list = [\"WF-1\", \"WR-1\", \"WB-1\", \"WL-1\"]\n",
    "def setup(season, blinds, daylighting, ep_model, stpt, customize_occupancy):\n",
    "    \"\"\"\n",
    "    param: blinds can be None, SouthOnly, All\n",
    "    \"\"\"\n",
    "    if daylighting:\n",
    "        dlight = 1\n",
    "    else:\n",
    "        dlight = 0\n",
    "\n",
    "    if season == 'heating':\n",
    "        heat = 1\n",
    "        cool = 0\n",
    "        reheat = 1\n",
    "        blind_type = 'OnNightIfLowOutdoorTempAndOffDay'\n",
    "#         stpt = 15\n",
    "        run_period = (35, 1991, 1, 1)\n",
    "#         ep_model.add_configuration('SetpointManager:MultiZone:Heating:Average',\n",
    "#                                    {'Name': 'Supply Air Temp Manager 1',\n",
    "#                                     'HVAC Air Loop Name': 'VAV Sys 1',\n",
    "#                                     'Minimum Setpoint Temperature': '12.0',\n",
    "#                                     'Maximum Setpoint Temperature': '36.0',\n",
    "#                                     'Setpoint Node or NodeList Name': 'Supply Air Temp Nodes 1'})\n",
    "#         ep_model.add_configuration('SetpointManager:Coldest',\n",
    "#                                    {'Name': 'Supply Air Temp Manager 1',\n",
    "#                                     'Control Variable': 'Temperature',\n",
    "#                                     'HVAC Air Loop Name': 'VAV Sys 1',\n",
    "#                                     'Minimum Setpoint Temperature': '23.0',\n",
    "#                                     'Maximum Setpoint Temperature': '36.0',\n",
    "#                                     'Strategy': 'MinimumTemperature',\n",
    "#                                     'Setpoint Node or NodeList Name': 'Supply Air Temp Nodes 1'})\n",
    "    elif season == 'cooling':\n",
    "        heat = 0\n",
    "        cool = 1\n",
    "        reheat = 1\n",
    "        blind_type = 'OffNightAndOnDayIfCoolingAndHighSolarOnWindow'\n",
    "#         stpt = 400\n",
    "        run_period = (35, 1991, 7, 1)\n",
    "#         ep_model.add_configuration('SetpointManager:MultiZone:Cooling:Average',\n",
    "#                                    {'Name': 'Supply Air Temp Manager 1',\n",
    "#                                     'HVAC Air Loop Name': 'VAV Sys 1',\n",
    "#                                     'Minimum Setpoint Temperature': '12.0',\n",
    "#                                     'Maximum Setpoint Temperature': '36.0',\n",
    "#                                     'Setpoint Node or NodeList Name': 'Supply Air Temp Nodes 1'})\n",
    "#         ep_model.add_configuration('SetpointManager:Warmest',\n",
    "#                                    {'Name': 'Supply Air Temp Manager 1',\n",
    "#                                     'Control Variable': 'Temperature',\n",
    "#                                     'HVAC Air Loop Name': 'VAV Sys 1',\n",
    "#                                     'Minimum Setpoint Temperature': '12.0',\n",
    "#                                     'Maximum Setpoint Temperature': '36.0',\n",
    "#                                     'Strategy': 'MaximumTemperature',\n",
    "#                                     'Setpoint Node or NodeList Name': 'Supply Air Temp Nodes 1'})\n",
    "        ep_model.add_configuration('SetpointManager:Scheduled',\n",
    "                                   {'Name': 'Supply Air Temp Manager 1',\n",
    "                                    'Control Variable': 'Temperature',\n",
    "                                    'Schedule Name': 'SAT_SP',\n",
    "                                    'Setpoint Node or NodeList Name': 'Supply Air Temp Nodes 1'})\n",
    "    else:\n",
    "        raise ValueError(f'Incorrect value for season: {season}')\n",
    "    \n",
    "    \n",
    "    # turn off if blinds are not active\n",
    "    if blinds is None:\n",
    "        blind_type = 'AlwaysOff'\n",
    "    elif blinds == 'SouthOnly':\n",
    "        ep_model.set_blinds(\n",
    "            blind_object_list[0],\n",
    "            blind_material_name=\"White Painted Metal Blind\",\n",
    "            shading_control_type=blind_type,\n",
    "            setpoint=stpt,\n",
    "            agent_control=False\n",
    "        )\n",
    "    elif blinds == 'All':\n",
    "        ep_model.set_blinds(\n",
    "            blind_object_list,\n",
    "            blind_material_name=\"White Painted Metal Blind\",\n",
    "            shading_control_type=blind_type,\n",
    "            setpoint=stpt,\n",
    "            agent_control=False\n",
    "        )\n",
    "    elif blinds == 'AllAlwaysOn':\n",
    "        blind_type = 'AlwaysOn'\n",
    "        ep_model.set_blinds(\n",
    "            blind_object_list,\n",
    "            blind_material_name=\"White Painted Metal Blind\",\n",
    "            shading_control_type=blind_type,\n",
    "            setpoint=stpt,\n",
    "            agent_control=False\n",
    "        )\n",
    "    else:\n",
    "        raise ValueError(f\"{blinds} is an invalid blind type.\")\n",
    "#     ep_model.set_blinds(\n",
    "#             blind_object_list,\n",
    "#             blind_material_name=\"White Painted Metal Blind\",\n",
    "#             agent_control=False\n",
    "#     )\n",
    "    \n",
    "    # Set the run period for the defined season\n",
    "    ep_model.set_runperiod(*run_period)\n",
    "\n",
    "    # Set the coil availability based on the season\n",
    "    ep_model.edit_configuration('SCHEDULE:COMPACT', {'Name': 'ReheatCoilAvailSched'}, {\n",
    "        'Field 4': reheat\n",
    "    })    \n",
    "    ep_model.edit_configuration('SCHEDULE:COMPACT', {'Name': 'HeatingCoilAvailSched'}, {\n",
    "        'Field 4': heat\n",
    "    })\n",
    "    ep_model.edit_configuration('SCHEDULE:COMPACT', {'Name': 'CoolingCoilAvailSched'}, {\n",
    "        'Field 4': cool\n",
    "    })\n",
    "\n",
    "    # Setup Daylighting\n",
    "    ep_model.edit_configuration('SCHEDULE:COMPACT', {'Name': 'DaylightingAvail'}, {\n",
    "        'Field 4': dlight\n",
    "    })\n",
    "    \n",
    "    if customize_occupancy:\n",
    "        OG(ep_model, random_seed=42).generate_daily_schedule(add_to_model=True, \n",
    "                                             overwrite_dict={f\"SPACE{i}-1\": f\"SPACE{i}-1 People 1\"\n",
    "                                                             for i in range(1, 6)})\n",
    "        return f'SAT_SP_customOcc_{season}_blinds{blinds}_setpoint{stpt}_daylighting{daylighting}.csv', ep_model\n",
    "    else:\n",
    "        return f'SAT_SP_{season}_blinds{blinds}_setpoint{stpt}_daylighting{daylighting}.csv', ep_model"
   ]
  },
  {
   "cell_type": "code",
   "execution_count": 3,
   "metadata": {
    "scrolled": true
   },
   "outputs": [],
   "source": [
    "eplus_naming_dict = {\n",
    "    ('Site Outdoor Air Drybulb Temperature', '*'): \"Outdoor Temp.\",\n",
    "    ('Site Diffuse Solar Radiation Rate per Area', '*'): \"Diff. Solar Rad.\",\n",
    "    ('Site Direct Solar Radiation Rate per Area', '*'): \"Direct Solar Rad.\",\n",
    "    ('Facility Total HVAC Electric Demand Power', '*'): \"HVAC Power\",\n",
    "    ('System Node Temperature', 'VAV SYS 1 OUTLET NODE'): \"Sys Out Temp.\",\n",
    "    ('Heating Coil Electric Power', 'Main Heating Coil 1'): \"Heat Coil Power\",\n",
    "    ('Cooling Coil Electric Power', 'Main Cooling Coil 1'): \"Cool Coil Power\",\n",
    "    # ('Occupancy Flag', '*'): \"Occupancy Flag\",\n",
    "    ('System Node Temperature', 'Mixed Air Node 1'): \"MA Temp.\",\n",
    "    # ('Indoor Air Temperature Setpoint', '*'): \"Indoor Temp. Setpoint\",\n",
    "    # node outputs\n",
    "    ('System Node Temperature', 'SPACE1-1 IN NODE'): \"In Node Temp Zone 1\",\n",
    "    ('System Node Temperature', 'SPACE2-1 IN NODE'): \"In Node Temp Zone 2\",\n",
    "    ('System Node Temperature', 'SPACE3-1 IN NODE'): \"In Node Temp Zone 3\",\n",
    "    ('System Node Temperature', 'SPACE4-1 IN NODE'): \"In Node Temp Zone 4\",\n",
    "    ('System Node Temperature', 'SPACE5-1 IN NODE'): \"In Node Temp Zone 5\",\n",
    "\n",
    "    ('System Node Mass Flow Rate', 'SPACE1-1 IN NODE'): \"In Node Flow Zone 1\",\n",
    "    ('System Node Mass Flow Rate', 'SPACE2-1 IN NODE'): \"In Node Flow Zone 2\",\n",
    "    ('System Node Mass Flow Rate', 'SPACE3-1 IN NODE'): \"In Node Flow Zone 3\",\n",
    "    ('System Node Mass Flow Rate', 'SPACE4-1 IN NODE'): \"In Node Flow Zone 4\",\n",
    "    ('System Node Mass Flow Rate', 'SPACE5-1 IN NODE'): \"In Node Flow Zone 5\",\n",
    "    # Comfort\n",
    "    # ('Building Mean PPD', '*'): \"PPD\",\n",
    "    ('Zone Thermal Comfort Fanger Model PPD', 'SPACE1-1 People 1'): \"PPD Zone 1\",\n",
    "    ('Zone Thermal Comfort Fanger Model PPD', 'SPACE2-1 People 1'): \"PPD Zone 2\",\n",
    "    ('Zone Thermal Comfort Fanger Model PPD', 'SPACE3-1 People 1'): \"PPD Zone 3\",\n",
    "    ('Zone Thermal Comfort Fanger Model PPD', 'SPACE4-1 People 1'): \"PPD Zone 4\",\n",
    "    ('Zone Thermal Comfort Fanger Model PPD', 'SPACE5-1 People 1'): \"PPD Zone 5\",\n",
    "    ('Zone Thermal Comfort Fanger Model PMV', 'SPACE1-1 People 1'): \"PMV Zone 1\",\n",
    "    ('Zone Thermal Comfort Fanger Model PMV', 'SPACE2-1 People 1'): \"PMV Zone 2\",\n",
    "    ('Zone Thermal Comfort Fanger Model PMV', 'SPACE3-1 People 1'): \"PMV Zone 3\",\n",
    "    ('Zone Thermal Comfort Fanger Model PMV', 'SPACE4-1 People 1'): \"PMV Zone 4\",\n",
    "    ('Zone Thermal Comfort Fanger Model PMV', 'SPACE5-1 People 1'): \"PMV Zone 5\",\n",
    "    # People\n",
    "    ('Zone People Occupant Count', 'SPACE1-1'): \"Occu Zone 1\",\n",
    "    ('Zone People Occupant Count', 'SPACE2-1'): \"Occu Zone 2\",\n",
    "    ('Zone People Occupant Count', 'SPACE3-1'): \"Occu Zone 3\",\n",
    "    ('Zone People Occupant Count', 'SPACE4-1'): \"Occu Zone 4\",\n",
    "    ('Zone People Occupant Count', 'SPACE5-1'): \"Occu Zone 5\",\n",
    "    # Power\n",
    "    ('Zone Air Terminal Sensible Cooling Energy', 'SPACE1-1 ATU'): \"Cooling Power Zone 1\",\n",
    "    ('Zone Air Terminal Sensible Cooling Energy', 'SPACE2-1 ATU'): \"Cooling Power Zone 2\",\n",
    "    ('Zone Air Terminal Sensible Cooling Energy', 'SPACE3-1 ATU'): \"Cooling Power Zone 3\",\n",
    "    ('Zone Air Terminal Sensible Cooling Energy', 'SPACE4-1 ATU'): \"Cooling Power Zone 4\",\n",
    "    ('Zone Air Terminal Sensible Cooling Energy', 'SPACE5-1 ATU'): \"Cooling Power Zone 5\",\n",
    "    ('Zone Air Terminal Sensible Heating Energy', 'SPACE1-1 ATU'): \"Heating Power Zone 1\",\n",
    "    ('Zone Air Terminal Sensible Heating Energy', 'SPACE2-1 ATU'): \"Heating Power Zone 2\",\n",
    "    ('Zone Air Terminal Sensible Heating Energy', 'SPACE3-1 ATU'): \"Heating Power Zone 3\",\n",
    "    ('Zone Air Terminal Sensible Heating Energy', 'SPACE4-1 ATU'): \"Heating Power Zone 4\",\n",
    "    ('Zone Air Terminal Sensible Heating Energy', 'SPACE5-1 ATU'): \"Heating Power Zone 5\",\n",
    "    (\"Fan Electric Power\", \"Supply Fan 1\"): \"Fan Power\",\n",
    "    # Damper\n",
    "    (\"Zone Air Terminal VAV Damper Position\", \"SPACE1-1 VAV Reheat\"): \"Space 1-1 VAV Damper Position\",\n",
    "    (\"Zone Air Terminal VAV Damper Position\", \"SPACE2-1 VAV Reheat\"): \"Space 2-1 VAV Damper Position\",\n",
    "    (\"Zone Air Terminal VAV Damper Position\", \"SPACE3-1 VAV Reheat\"): \"Space 3-1 VAV Damper Position\",\n",
    "    (\"Zone Air Terminal VAV Damper Position\", \"SPACE4-1 VAV Reheat\"): \"Space 4-1 VAV Damper Position\",\n",
    "    (\"Zone Air Terminal VAV Damper Position\", \"SPACE5-1 VAV Reheat\"): \"Space 5-1 VAV Damper Position\",\n",
    "    # Zone Temps\n",
    "    # ('Building Mean Temperature', '*'): \"Indoor Temp.\",\n",
    "    ('Zone Air Temperature', 'SPACE1-1'): \"Temp Zone 1\",\n",
    "    ('Zone Air Temperature', 'SPACE2-1'): \"Temp Zone 2\",\n",
    "    ('Zone Air Temperature', 'SPACE3-1'): \"Temp Zone 3\",\n",
    "    ('Zone Air Temperature', 'SPACE4-1'): \"Temp Zone 4\",\n",
    "    ('Zone Air Temperature', 'SPACE5-1'): \"Temp Zone 5\",\n",
    "    # Lights\n",
    "    ('Lights Electric Power', 'SPACE1-1 Lights 1'): 'Lights Zone 1',\n",
    "    ('Lights Electric Power', 'SPACE2-1 Lights 1'): 'Lights Zone 2',\n",
    "    ('Lights Electric Power', 'SPACE3-1 Lights 1'): 'Lights Zone 3',\n",
    "    ('Lights Electric Power', 'SPACE4-1 Lights 1'): 'Lights Zone 4',\n",
    "    ('Lights Electric Power', 'SPACE5-1 Lights 1'): 'Lights Zone 5',\n",
    "    # Blinds\n",
    "    ('Surface Shading Device Is On Time Fraction', 'WF-1'): 'Shade On Zone 1',\n",
    "    # ('Surface Window Blind Slat Angle', 'WF-1'): 'Blind Angle Zone 1',\n",
    "    ('Surface Window Blind Slat Angle', 'WF-1'): 'Blind Angle Zone 1',\n",
    "    ('Surface Window Blind Slat Angle', 'WL-1'): 'Blind Angle Zone 4',\n",
    "    ('Surface Window Blind Slat Angle', 'WR-1'): 'Blind Angle Zone 2',\n",
    "    ('Surface Window Blind Slat Angle', 'WB-1'): 'Blind Angle Zone 3',\n",
    "    # Daylighting\n",
    "    ('Daylighting Reference Point 1 Illuminance', 'SPACE1-1 DaylightingControls'): 'Illum 1 Zone 1',\n",
    "    ('Daylighting Reference Point 2 Illuminance', 'SPACE1-1 DaylightingControls'): 'Illum 2 Zone 1',\n",
    "    ('Daylighting Reference Point 1 Illuminance', 'SPACE3-1 DaylightingControls'): 'Illum 1 Zone 3',\n",
    "    ('Daylighting Reference Point 2 Illuminance', 'SPACE3-1 DaylightingControls'): 'Illum 2 Zone 3',\n",
    "    ('Daylighting Reference Point 1 Illuminance', 'SPACE2-1 DaylightingControls'): 'Illum Zone 2',\n",
    "    ('Daylighting Reference Point 1 Illuminance', 'SPACE4-1 DaylightingControls'): 'Illum Zone 4',\n",
    "    # ('Daylighting Reference Point 1 Illuminance', 'SPACE1-1 DaylightingControls'): 'Illuminance 1',\n",
    "    # ('Daylighting Reference Point 1 Daylight Illuminance Setpoint Exceeded Time',\n",
    "    #  'SPACE1-1 DaylightingControls'): 'Illuminance Exceeded 1',\n",
    "    # ('Daylighting Reference Point 1 Glare Index', 'SPACE1-1 DaylightingControls'): 'Glare 1',\n",
    "    # ('Daylighting Reference Point 1 Glare Index Setpoint Exceeded Time',\n",
    "    #  'SPACE1-1 DaylightingControls'): 'Glare Exceeded 1',\n",
    "    # ('Daylighting Reference Point 2 Illuminance', 'SPACE1-1 DaylightingControls'): 'Illuminance 2',\n",
    "    # ('Daylighting Reference Point 2 Daylight Illuminance Setpoint Exceeded Time',\n",
    "    #  'SPACE1-1 DaylightingControls'): 'Illuminance Exceeded 2',\n",
    "    # ('Daylighting Reference Point 2 Glare Index', 'SPACE1-1 DaylightingControls'): 'Glare 2',\n",
    "    # ('Daylighting Reference Point 2 Glare Index Setpoint Exceeded Time',\n",
    "    #  'SPACE1-1 DaylightingControls'): 'Glare Exceeded 2',\n",
    "}\n",
    "\n",
    "eplus_var_types = {\n",
    "    'Site Outdoor Air Drybulb Temperature': \"Environment\",\n",
    "    'Site Diffuse Solar Radiation Rate per Area': \"Environment\",\n",
    "    'Site Direct Solar Radiation Rate per Area': \"Environment\",\n",
    "    'Building Mean Temperature': \"EMS\",\n",
    "    'Facility Total HVAC Electric Demand Power': 'Whole Building',\n",
    "    'Building Mean PPD': \"EMS\",\n",
    "    'Indoor Air Temperature Setpoint': \"EMS\",\n",
    "    'Occupancy Flag': \"EMS\",\n",
    "}\n",
    "\n",
    "# Prepare model\n",
    "Model.set_energyplus_folder(\"D:\\\\Software\\\\EnergyPlus\\\\\")"
   ]
  },
  {
   "cell_type": "code",
   "execution_count": 4,
   "metadata": {},
   "outputs": [],
   "source": [
    "def run(season, blinds, daylighting, stpt, co):\n",
    "    ep_model = Model(idf_file_name='../eplus_files/5Zone_Default_no_windowcontrol.idf',\n",
    "                 eplus_naming_dict=eplus_naming_dict,\n",
    "                 eplus_var_types=eplus_var_types,\n",
    "                 weather_file='../eplus_files/pittsburg_TMY3.epw')\n",
    "    \n",
    "    fname, ep_model = setup(season, blinds, daylighting, ep_model, stpt, co)\n",
    "    print('running', fname)\n",
    "\n",
    "    i = 0\n",
    "\n",
    "    # Run simulation\n",
    "    state_history = []\n",
    "    state = ep_model.reset()\n",
    "    state_history.append(state)\n",
    "    while not ep_model.is_terminate():\n",
    "        state = ep_model.step(list())\n",
    "#         pdb.set_trace()\n",
    "#         for k, v in state['occupancy'].items():\n",
    "#             state[f\"{k} Occupied\"] = v\n",
    "        state_history.append(state)\n",
    "        i += 1\n",
    "        \n",
    "    result = pd.DataFrame(state_history)\n",
    "    result['time'] = result['time'].mask(result['time'].dt.year > 1, # Warn: hacky way of replacing year\n",
    "                        result['time'] + pd.offsets.DateOffset(year=1991))\n",
    "    df = result[list(eplus_naming_dict.values()) + ['time']].copy()\n",
    "    df.index = df['time']\n",
    "    df.to_csv(os.path.join(\"gaby_baseline_new\", fname))    \n",
    "    return df"
   ]
  },
  {
   "cell_type": "code",
   "execution_count": 10,
   "metadata": {},
   "outputs": [
    {
     "name": "stdout",
     "output_type": "stream",
     "text": [
      "this node -PROGRAMCONTROL-is not present in base dictionary\n",
      "running SAT_SP_cooling_blindsAll_setpoint90_daylightingTrue.csv\n"
     ]
    },
    {
     "name": "stderr",
     "output_type": "stream",
     "text": [
      "f:\\python\\lib\\site-packages\\pandas\\core\\arrays\\datetimes.py:691: PerformanceWarning: Non-vectorized DateOffset being applied to Series or DatetimeIndex\n",
      "  warnings.warn(\n"
     ]
    },
    {
     "name": "stdout",
     "output_type": "stream",
     "text": [
      "1 / 4 (Spend: 0:0:20)\n",
      "Estimate: 0:1:0)\n",
      "this node -PROGRAMCONTROL-is not present in base dictionary\n",
      "running SAT_SP_cooling_blindsAll_setpoint90_daylightingFalse.csv\n"
     ]
    },
    {
     "name": "stderr",
     "output_type": "stream",
     "text": [
      "f:\\python\\lib\\site-packages\\pandas\\core\\arrays\\datetimes.py:691: PerformanceWarning: Non-vectorized DateOffset being applied to Series or DatetimeIndex\n",
      "  warnings.warn(\n"
     ]
    },
    {
     "name": "stdout",
     "output_type": "stream",
     "text": [
      "2 / 4 (Spend: 0:0:40)\n",
      "Estimate: 0:0:40)\n",
      "this node -PROGRAMCONTROL-is not present in base dictionary\n",
      "running SAT_SP_cooling_blindsNone_setpoint0_daylightingTrue.csv\n"
     ]
    },
    {
     "name": "stderr",
     "output_type": "stream",
     "text": [
      "f:\\python\\lib\\site-packages\\pandas\\core\\arrays\\datetimes.py:691: PerformanceWarning: Non-vectorized DateOffset being applied to Series or DatetimeIndex\n",
      "  warnings.warn(\n"
     ]
    },
    {
     "name": "stdout",
     "output_type": "stream",
     "text": [
      "3 / 4 (Spend: 0:1:2)\n",
      "Estimate: 0:0:20)\n",
      "this node -PROGRAMCONTROL-is not present in base dictionary\n",
      "running SAT_SP_cooling_blindsNone_setpoint0_daylightingFalse.csv\n"
     ]
    },
    {
     "name": "stderr",
     "output_type": "stream",
     "text": [
      "f:\\python\\lib\\site-packages\\pandas\\core\\arrays\\datetimes.py:691: PerformanceWarning: Non-vectorized DateOffset being applied to Series or DatetimeIndex\n",
      "  warnings.warn(\n"
     ]
    },
    {
     "name": "stdout",
     "output_type": "stream",
     "text": [
      "4 / 4 (Spend: 0:1:21)\n",
      "Estimate: 0:0:0)\n"
     ]
    }
   ],
   "source": [
    "start_time = time.time()\n",
    "total_i = 4#2 * 2 * 2 * 19 + 2 * 2 * 2\n",
    "i = 0\n",
    "for s in ['cooling']:\n",
    "#     for b in ['All', 'SouthOnly', None]:\n",
    "    for b in ['All', None]:\n",
    "        for d in [True, False]:\n",
    "            if b:\n",
    "#                 stpts = np.linspace(0, 180, 19).astype(int)\n",
    "                stpts = [90]\n",
    "            else:\n",
    "                stpts = [0]\n",
    "            for stpt in stpts:\n",
    "                for occ in [False]:\n",
    "                    if i > -1:\n",
    "                        df1 = run(s, b, d, stpt, occ)\n",
    "                    i += 1\n",
    "                    run_time = time.time() - start_time\n",
    "                    print(f\"{i} / {total_i} (Spend: {int(run_time // 3600)}:{int(run_time // 60 % 60)}:{int(run_time % 60)})\")\n",
    "                    run_time = run_time / i * (total_i - i)\n",
    "                    print(f\"Estimate: {int(run_time // 3600)}:{int(run_time // 60 % 60)}:{int(run_time % 60)})\")\n",
    "# %time df = run('heating', None, False)"
   ]
  },
  {
   "cell_type": "code",
   "execution_count": 21,
   "metadata": {},
   "outputs": [
    {
     "data": {
      "text/plain": [
       "<matplotlib.axes._subplots.AxesSubplot at 0x12a0b3e48>"
      ]
     },
     "execution_count": 21,
     "metadata": {},
     "output_type": "execute_result"
    },
    {
     "data": {
      "image/png": "[encoded data removed]",
      "text/plain": [
       "<Figure size 432x288 with 1 Axes>"
      ]
     },
     "metadata": {},
     "output_type": "display_data"
    }
   ],
   "source": [
    "df[100:200][[\n",
    "    'SPACE1-1 Occupied', \n",
    "    'SPACE2-1 Occupied', \n",
    "    'SPACE3-1 Occupied', \n",
    "    'SPACE4-1 Occupied', \n",
    "    'SPACE5-1 Occupied'\n",
    "]].plot()"
   ]
  },
  {
   "cell_type": "code",
   "execution_count": 9,
   "metadata": {},
   "outputs": [
    {
     "ename": "KeyError",
     "evalue": "\"None of [Index(['SPACE1-1 Occupied', 'SPACE2-1 Occupied', 'SPACE3-1 Occupied',\\n       'SPACE4-1 Occupied', 'SPACE5-1 Occupied'],\\n      dtype='object')] are in the [columns]\"",
     "output_type": "error",
     "traceback": [
      "\u001b[1;31m---------------------------------------------------------------------------\u001b[0m",
      "\u001b[1;31mKeyError\u001b[0m                                  Traceback (most recent call last)",
      "\u001b[1;32m<ipython-input-9-d8be3d0e0e1c>\u001b[0m in \u001b[0;36m<module>\u001b[1;34m\u001b[0m\n\u001b[1;32m----> 1\u001b[1;33m df1[100:200][[\n\u001b[0m\u001b[0;32m      2\u001b[0m     \u001b[1;34m'SPACE1-1 Occupied'\u001b[0m\u001b[1;33m,\u001b[0m\u001b[1;33m\u001b[0m\u001b[1;33m\u001b[0m\u001b[0m\n\u001b[0;32m      3\u001b[0m     \u001b[1;34m'SPACE2-1 Occupied'\u001b[0m\u001b[1;33m,\u001b[0m\u001b[1;33m\u001b[0m\u001b[1;33m\u001b[0m\u001b[0m\n\u001b[0;32m      4\u001b[0m     \u001b[1;34m'SPACE3-1 Occupied'\u001b[0m\u001b[1;33m,\u001b[0m\u001b[1;33m\u001b[0m\u001b[1;33m\u001b[0m\u001b[0m\n\u001b[0;32m      5\u001b[0m     \u001b[1;34m'SPACE4-1 Occupied'\u001b[0m\u001b[1;33m,\u001b[0m\u001b[1;33m\u001b[0m\u001b[1;33m\u001b[0m\u001b[0m\n",
      "\u001b[1;32mf:\\python\\lib\\site-packages\\pandas\\core\\frame.py\u001b[0m in \u001b[0;36m__getitem__\u001b[1;34m(self, key)\u001b[0m\n\u001b[0;32m   2906\u001b[0m             \u001b[1;32mif\u001b[0m \u001b[0mis_iterator\u001b[0m\u001b[1;33m(\u001b[0m\u001b[0mkey\u001b[0m\u001b[1;33m)\u001b[0m\u001b[1;33m:\u001b[0m\u001b[1;33m\u001b[0m\u001b[1;33m\u001b[0m\u001b[0m\n\u001b[0;32m   2907\u001b[0m                 \u001b[0mkey\u001b[0m \u001b[1;33m=\u001b[0m \u001b[0mlist\u001b[0m\u001b[1;33m(\u001b[0m\u001b[0mkey\u001b[0m\u001b[1;33m)\u001b[0m\u001b[1;33m\u001b[0m\u001b[1;33m\u001b[0m\u001b[0m\n\u001b[1;32m-> 2908\u001b[1;33m             \u001b[0mindexer\u001b[0m \u001b[1;33m=\u001b[0m \u001b[0mself\u001b[0m\u001b[1;33m.\u001b[0m\u001b[0mloc\u001b[0m\u001b[1;33m.\u001b[0m\u001b[0m_get_listlike_indexer\u001b[0m\u001b[1;33m(\u001b[0m\u001b[0mkey\u001b[0m\u001b[1;33m,\u001b[0m \u001b[0maxis\u001b[0m\u001b[1;33m=\u001b[0m\u001b[1;36m1\u001b[0m\u001b[1;33m,\u001b[0m \u001b[0mraise_missing\u001b[0m\u001b[1;33m=\u001b[0m\u001b[1;32mTrue\u001b[0m\u001b[1;33m)\u001b[0m\u001b[1;33m[\u001b[0m\u001b[1;36m1\u001b[0m\u001b[1;33m]\u001b[0m\u001b[1;33m\u001b[0m\u001b[1;33m\u001b[0m\u001b[0m\n\u001b[0m\u001b[0;32m   2909\u001b[0m \u001b[1;33m\u001b[0m\u001b[0m\n\u001b[0;32m   2910\u001b[0m         \u001b[1;31m# take() does not accept boolean indexers\u001b[0m\u001b[1;33m\u001b[0m\u001b[1;33m\u001b[0m\u001b[1;33m\u001b[0m\u001b[0m\n",
      "\u001b[1;32mf:\\python\\lib\\site-packages\\pandas\\core\\indexing.py\u001b[0m in \u001b[0;36m_get_listlike_indexer\u001b[1;34m(self, key, axis, raise_missing)\u001b[0m\n\u001b[0;32m   1252\u001b[0m             \u001b[0mkeyarr\u001b[0m\u001b[1;33m,\u001b[0m \u001b[0mindexer\u001b[0m\u001b[1;33m,\u001b[0m \u001b[0mnew_indexer\u001b[0m \u001b[1;33m=\u001b[0m \u001b[0max\u001b[0m\u001b[1;33m.\u001b[0m\u001b[0m_reindex_non_unique\u001b[0m\u001b[1;33m(\u001b[0m\u001b[0mkeyarr\u001b[0m\u001b[1;33m)\u001b[0m\u001b[1;33m\u001b[0m\u001b[1;33m\u001b[0m\u001b[0m\n\u001b[0;32m   1253\u001b[0m \u001b[1;33m\u001b[0m\u001b[0m\n\u001b[1;32m-> 1254\u001b[1;33m         \u001b[0mself\u001b[0m\u001b[1;33m.\u001b[0m\u001b[0m_validate_read_indexer\u001b[0m\u001b[1;33m(\u001b[0m\u001b[0mkeyarr\u001b[0m\u001b[1;33m,\u001b[0m \u001b[0mindexer\u001b[0m\u001b[1;33m,\u001b[0m \u001b[0maxis\u001b[0m\u001b[1;33m,\u001b[0m \u001b[0mraise_missing\u001b[0m\u001b[1;33m=\u001b[0m\u001b[0mraise_missing\u001b[0m\u001b[1;33m)\u001b[0m\u001b[1;33m\u001b[0m\u001b[1;33m\u001b[0m\u001b[0m\n\u001b[0m\u001b[0;32m   1255\u001b[0m         \u001b[1;32mreturn\u001b[0m \u001b[0mkeyarr\u001b[0m\u001b[1;33m,\u001b[0m \u001b[0mindexer\u001b[0m\u001b[1;33m\u001b[0m\u001b[1;33m\u001b[0m\u001b[0m\n\u001b[0;32m   1256\u001b[0m \u001b[1;33m\u001b[0m\u001b[0m\n",
      "\u001b[1;32mf:\\python\\lib\\site-packages\\pandas\\core\\indexing.py\u001b[0m in \u001b[0;36m_validate_read_indexer\u001b[1;34m(self, key, indexer, axis, raise_missing)\u001b[0m\n\u001b[0;32m   1296\u001b[0m             \u001b[1;32mif\u001b[0m \u001b[0mmissing\u001b[0m \u001b[1;33m==\u001b[0m \u001b[0mlen\u001b[0m\u001b[1;33m(\u001b[0m\u001b[0mindexer\u001b[0m\u001b[1;33m)\u001b[0m\u001b[1;33m:\u001b[0m\u001b[1;33m\u001b[0m\u001b[1;33m\u001b[0m\u001b[0m\n\u001b[0;32m   1297\u001b[0m                 \u001b[0maxis_name\u001b[0m \u001b[1;33m=\u001b[0m \u001b[0mself\u001b[0m\u001b[1;33m.\u001b[0m\u001b[0mobj\u001b[0m\u001b[1;33m.\u001b[0m\u001b[0m_get_axis_name\u001b[0m\u001b[1;33m(\u001b[0m\u001b[0maxis\u001b[0m\u001b[1;33m)\u001b[0m\u001b[1;33m\u001b[0m\u001b[1;33m\u001b[0m\u001b[0m\n\u001b[1;32m-> 1298\u001b[1;33m                 \u001b[1;32mraise\u001b[0m \u001b[0mKeyError\u001b[0m\u001b[1;33m(\u001b[0m\u001b[1;34mf\"None of [{key}] are in the [{axis_name}]\"\u001b[0m\u001b[1;33m)\u001b[0m\u001b[1;33m\u001b[0m\u001b[1;33m\u001b[0m\u001b[0m\n\u001b[0m\u001b[0;32m   1299\u001b[0m \u001b[1;33m\u001b[0m\u001b[0m\n\u001b[0;32m   1300\u001b[0m             \u001b[1;31m# We (temporarily) allow for some missing keys with .loc, except in\u001b[0m\u001b[1;33m\u001b[0m\u001b[1;33m\u001b[0m\u001b[1;33m\u001b[0m\u001b[0m\n",
      "\u001b[1;31mKeyError\u001b[0m: \"None of [Index(['SPACE1-1 Occupied', 'SPACE2-1 Occupied', 'SPACE3-1 Occupied',\\n       'SPACE4-1 Occupied', 'SPACE5-1 Occupied'],\\n      dtype='object')] are in the [columns]\""
     ]
    }
   ],
   "source": [
    "df1[100:200][[\n",
    "    'SPACE1-1 Occupied', \n",
    "    'SPACE2-1 Occupied', \n",
    "    'SPACE3-1 Occupied', \n",
    "    'SPACE4-1 Occupied', \n",
    "    'SPACE5-1 Occupied'\n",
    "]].plot()"
   ]
  },
  {
   "cell_type": "code",
   "execution_count": 24,
   "metadata": {},
   "outputs": [
    {
     "data": {
      "text/plain": [
       "True"
      ]
     },
     "execution_count": 24,
     "metadata": {},
     "output_type": "execute_result"
    }
   ],
   "source": [
    "df1.equals(df)"
   ]
  },
  {
   "cell_type": "code",
   "execution_count": 11,
   "metadata": {},
   "outputs": [
    {
     "data": {
      "text/plain": [
       "<matplotlib.axes._subplots.AxesSubplot at 0x112269a58>"
      ]
     },
     "execution_count": 11,
     "metadata": {},
     "output_type": "execute_result"
    },
    {
     "data": {
      "image/png": "[encoded data removed]",
      "text/plain": [
       "<Figure size 432x288 with 1 Axes>"
      ]
     },
     "metadata": {},
     "output_type": "display_data"
    }
   ],
   "source": [
    "df[['SPACE1-1 Occupied', 'SPACE2-1 Occupied']].plot()"
   ]
  },
  {
   "cell_type": "code",
   "execution_count": null,
   "metadata": {},
   "outputs": [],
   "source": [
    "print('hellow world')"
   ]
  },
  {
   "cell_type": "code",
   "execution_count": 13,
   "metadata": {},
   "outputs": [],
   "source": [
    "df.to_csv('SAT_SP_heating_blindsNone_daylightingFalse.csv')"
   ]
  },
  {
   "cell_type": "code",
   "execution_count": 56,
   "metadata": {},
   "outputs": [
    {
     "ename": "TypeError",
     "evalue": "run() missing 2 required positional arguments: 'stpt' and 'co'",
     "output_type": "error",
     "traceback": [
      "\u001b[1;31m---------------------------------------------------------------------------\u001b[0m",
      "\u001b[1;31mTypeError\u001b[0m                                 Traceback (most recent call last)",
      "\u001b[1;32m<timed exec>\u001b[0m in \u001b[0;36m<module>\u001b[1;34m\u001b[0m\n",
      "\u001b[1;31mTypeError\u001b[0m: run() missing 2 required positional arguments: 'stpt' and 'co'"
     ]
    }
   ],
   "source": [
    "# run('heating', False, False)\n",
    "%time df = run('heating', True, True)\n",
    "# run('heating', True, False)\n",
    "# run('heating', True, True)\n",
    "\n",
    "# run('cooling', False, False)\n",
    "# run('cooling', False, True)\n",
    "# run('cooling', True, False)\n",
    "# run('cooling', True, True)"
   ]
  },
  {
   "cell_type": "code",
   "execution_count": 57,
   "metadata": {},
   "outputs": [
    {
     "name": "stdout",
     "output_type": "stream",
     "text": [
      "this node -PROGRAMCONTROL-is not present in base dictionary\n",
      "running SAT_SP_cooling_blindsNone_setpoint0_daylightingTrue.csv\n"
     ]
    },
    {
     "name": "stderr",
     "output_type": "stream",
     "text": [
      "f:\\python\\lib\\site-packages\\pandas\\core\\arrays\\datetimes.py:691: PerformanceWarning: Non-vectorized DateOffset being applied to Series or DatetimeIndex\n",
      "  warnings.warn(\n"
     ]
    },
    {
     "name": "stdout",
     "output_type": "stream",
     "text": [
      "Wall time: 24.3 s\n"
     ]
    }
   ],
   "source": [
    "# run('heating', False, False)\n",
    "%time df = run('cooling', None, True, 0, False)\n",
    "# run('heating', True, False)\n",
    "# run('heating', True, True)\n",
    "\n",
    "# run('cooling', False, False)\n",
    "# run('cooling', False, True)\n",
    "# run('cooling', True, False)\n",
    "# run('cooling', True, True)"
   ]
  },
  {
   "cell_type": "code",
   "execution_count": 58,
   "metadata": {},
   "outputs": [],
   "source": [
    "data = df['1991-07-01 00:15:00':'1991-08-02 00:00:00']"
   ]
  },
  {
   "cell_type": "code",
   "execution_count": 59,
   "metadata": {},
   "outputs": [
    {
     "name": "stderr",
     "output_type": "stream",
     "text": [
      "<ipython-input-59-f213f3754ceb>:1: SettingWithCopyWarning: \n",
      "A value is trying to be set on a copy of a slice from a DataFrame.\n",
      "Try using .loc[row_indexer,col_indexer] = value instead\n",
      "\n",
      "See the caveats in the documentation: https://pandas.pydata.org/pandas-docs/stable/user_guide/indexing.html#returning-a-view-versus-a-copy\n",
      "  data['Lights'] = (data['Lights Zone 1'] + data['Lights Zone 2'] +  data['Lights Zone 3'] +  data['Lights Zone 4'])\n"
     ]
    },
    {
     "data": {
      "text/plain": [
       "8216851.8970755935"
      ]
     },
     "execution_count": 59,
     "metadata": {},
     "output_type": "execute_result"
    }
   ],
   "source": [
    "data['Lights'] = (data['Lights Zone 1'] + data['Lights Zone 2'] +  data['Lights Zone 3'] +  data['Lights Zone 4'])\n",
    "data['HVAC Power'].sum() + data['Lights'].sum()"
   ]
  },
  {
   "cell_type": "code",
   "execution_count": 75,
   "metadata": {},
   "outputs": [
    {
     "name": "stderr",
     "output_type": "stream",
     "text": [
      "<ipython-input-75-659895243194>:3: SettingWithCopyWarning: \n",
      "A value is trying to be set on a copy of a slice from a DataFrame.\n",
      "Try using .loc[row_indexer,col_indexer] = value instead\n",
      "\n",
      "See the caveats in the documentation: https://pandas.pydata.org/pandas-docs/stable/user_guide/indexing.html#returning-a-view-versus-a-copy\n",
      "  data['Lights'] = (data['Lights Zone 1'] + data['Lights Zone 2'] +  data['Lights Zone 3'] +  data['Lights Zone 4'])\n"
     ]
    },
    {
     "data": {
      "text/plain": [
       "8249459.856937554"
      ]
     },
     "execution_count": 75,
     "metadata": {},
     "output_type": "execute_result"
    }
   ],
   "source": [
    "df2 = pd.read_csv(\"gaby_baseline_new/SAT_SP_cooling_blindsNone_setpoint0_daylightingTrue.csv\", index_col=\"time\")\n",
    "data = df2['1991-07-01 00:15:00':'1991-08-02 00:00:00']\n",
    "data['Lights'] = (data['Lights Zone 1'] + data['Lights Zone 2'] +  data['Lights Zone 3'] +  data['Lights Zone 4'])\n",
    "data['HVAC Power'].sum() + data['Lights'].sum()"
   ]
  },
  {
   "cell_type": "code",
   "execution_count": 76,
   "metadata": {},
   "outputs": [
    {
     "data": {
      "text/plain": [
       "Index(['Outdoor Temp.', 'Diff. Solar Rad.', 'Direct Solar Rad.', 'HVAC Power',\n",
       "       'Sys Out Temp.', 'Heat Coil Power', 'Cool Coil Power', 'MA Temp.',\n",
       "       'In Node Temp Zone 1', 'In Node Temp Zone 2', 'In Node Temp Zone 3',\n",
       "       'In Node Temp Zone 4', 'In Node Temp Zone 5', 'In Node Flow Zone 1',\n",
       "       'In Node Flow Zone 2', 'In Node Flow Zone 3', 'In Node Flow Zone 4',\n",
       "       'In Node Flow Zone 5', 'PPD Zone 1', 'PPD Zone 2', 'PPD Zone 3',\n",
       "       'PPD Zone 4', 'PPD Zone 5', 'PMV Zone 1', 'PMV Zone 2', 'PMV Zone 3',\n",
       "       'PMV Zone 4', 'PMV Zone 5', 'Occu Zone 1', 'Occu Zone 2', 'Occu Zone 3',\n",
       "       'Occu Zone 4', 'Occu Zone 5', 'Cooling Power Zone 1',\n",
       "       'Cooling Power Zone 2', 'Cooling Power Zone 3', 'Cooling Power Zone 4',\n",
       "       'Cooling Power Zone 5', 'Heating Power Zone 1', 'Heating Power Zone 2',\n",
       "       'Heating Power Zone 3', 'Heating Power Zone 4', 'Heating Power Zone 5',\n",
       "       'Fan Power', 'Space 1-1 VAV Damper Position',\n",
       "       'Space 2-1 VAV Damper Position', 'Space 3-1 VAV Damper Position',\n",
       "       'Space 4-1 VAV Damper Position', 'Space 5-1 VAV Damper Position',\n",
       "       'Temp Zone 1', 'Temp Zone 2', 'Temp Zone 3', 'Temp Zone 4',\n",
       "       'Temp Zone 5', 'Lights Zone 1', 'Lights Zone 2', 'Lights Zone 3',\n",
       "       'Lights Zone 4', 'Lights Zone 5', 'Shade On Zone 1',\n",
       "       'Blind Angle Zone 1', 'Blind Angle Zone 4', 'Blind Angle Zone 2',\n",
       "       'Blind Angle Zone 3', 'Illum 1 Zone 1', 'Illum 2 Zone 1',\n",
       "       'Illum 1 Zone 3', 'Illum 2 Zone 3', 'Illum Zone 2', 'Illum Zone 4',\n",
       "       'time'],\n",
       "      dtype='object')"
      ]
     },
     "execution_count": 76,
     "metadata": {},
     "output_type": "execute_result"
    }
   ],
   "source": [
    "df1.columns"
   ]
  },
  {
   "cell_type": "code",
   "execution_count": 78,
   "metadata": {},
   "outputs": [
    {
     "data": {
      "text/plain": [
       "<AxesSubplot:xlabel='time'>"
      ]
     },
     "execution_count": 78,
     "metadata": {},
     "output_type": "execute_result"
    },
    {
     "data": {
      "image/png": "[encoded data removed]",
      "text/plain": [
       "<Figure size 432x288 with 1 Axes>"
      ]
     },
     "metadata": {
      "needs_background": "light"
     },
     "output_type": "display_data"
    }
   ],
   "source": [
    "df2['Temp Zone 1'].plot()"
   ]
  },
  {
   "cell_type": "code",
   "execution_count": 13,
   "metadata": {},
   "outputs": [
    {
     "data": {
      "text/plain": [
       "\n",
       "Schedule:Compact,\n",
       "    DaylightingAvail,         !- Name\n",
       "    Fraction,                 !- Schedule Type Limits Name\n",
       "    Through: 12/31,           !- Field 1\n",
       "    For: AllDays,             !- Field 2\n",
       "    Until: 24:00,             !- Field 3\n",
       "    1;                        !- Field 4"
      ]
     },
     "execution_count": 13,
     "metadata": {},
     "output_type": "execute_result"
    }
   ],
   "source": [
    "ep_model.get_configuration('SCHEDULE:COMPACT', 'DaylightingAvail')"
   ]
  },
  {
   "cell_type": "code",
   "execution_count": null,
   "metadata": {},
   "outputs": [],
   "source": [
    "ep_model.edit_configuration('SCHEDULE:COMPACT', {'Name': 'DaylightingAvail'}, {\n",
    "    'Field 4': dlight\n",
    "})"
   ]
  }
 ],
 "metadata": {
  "kernelspec": {
   "display_name": "Python 3",
   "language": "python",
   "name": "python3"
  },
  "language_info": {
   "codemirror_mode": {
    "name": "ipython",
    "version": 3
   },
   "file_extension": ".py",
   "mimetype": "text/x-python",
   "name": "python",
   "nbconvert_exporter": "python",
   "pygments_lexer": "ipython3",
   "version": "3.8.6"
  }
 },
 "nbformat": 4,
 "nbformat_minor": 2
}
